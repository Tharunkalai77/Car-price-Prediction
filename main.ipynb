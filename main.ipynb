{
 "cells": [
  {
   "cell_type": "code",
   "execution_count": 3,
   "id": "270f2ebe",
   "metadata": {},
   "outputs": [],
   "source": [
    "import pandas as pd\n",
    "import matplotlib.pyplot as plt\n",
    "import seaborn as sns\n",
    "from sklearn.model_selection import train_test_split\n",
    "from sklearn.linear_model import LinearRegression\n",
    "from sklearn.linear_model import Lasso\n",
    "from sklearn import metrics\n",
    "\n",
    " "
   ]
  },
  {
   "cell_type": "markdown",
   "id": "14f2066b",
   "metadata": {},
   "source": [
    "Data Collection and Processing\n"
   ]
  },
  {
   "cell_type": "code",
   "execution_count": 8,
   "id": "feec70bf",
   "metadata": {},
   "outputs": [],
   "source": [
    "car_dataset = pd.read_csv(\"C:\\\\Users\\\\tharu\\\\Desktop\\\\ml-projects\\\\Car-price-Prediction\\\\Car_Price_Prediction.csv\")"
   ]
  },
  {
   "cell_type": "code",
   "execution_count": 9,
   "id": "a9bcfbca",
   "metadata": {},
   "outputs": [
    {
     "data": {
      "text/html": [
       "<div>\n",
       "<style scoped>\n",
       "    .dataframe tbody tr th:only-of-type {\n",
       "        vertical-align: middle;\n",
       "    }\n",
       "\n",
       "    .dataframe tbody tr th {\n",
       "        vertical-align: top;\n",
       "    }\n",
       "\n",
       "    .dataframe thead th {\n",
       "        text-align: right;\n",
       "    }\n",
       "</style>\n",
       "<table border=\"1\" class=\"dataframe\">\n",
       "  <thead>\n",
       "    <tr style=\"text-align: right;\">\n",
       "      <th></th>\n",
       "      <th>Make</th>\n",
       "      <th>Model</th>\n",
       "      <th>Year</th>\n",
       "      <th>Engine Size</th>\n",
       "      <th>Mileage</th>\n",
       "      <th>Fuel Type</th>\n",
       "      <th>Transmission</th>\n",
       "      <th>Price</th>\n",
       "    </tr>\n",
       "  </thead>\n",
       "  <tbody>\n",
       "    <tr>\n",
       "      <th>0</th>\n",
       "      <td>Honda</td>\n",
       "      <td>Model B</td>\n",
       "      <td>2015</td>\n",
       "      <td>3.9</td>\n",
       "      <td>74176</td>\n",
       "      <td>Petrol</td>\n",
       "      <td>Manual</td>\n",
       "      <td>30246.207931</td>\n",
       "    </tr>\n",
       "    <tr>\n",
       "      <th>1</th>\n",
       "      <td>Ford</td>\n",
       "      <td>Model C</td>\n",
       "      <td>2014</td>\n",
       "      <td>1.7</td>\n",
       "      <td>94799</td>\n",
       "      <td>Electric</td>\n",
       "      <td>Automatic</td>\n",
       "      <td>22785.747684</td>\n",
       "    </tr>\n",
       "    <tr>\n",
       "      <th>2</th>\n",
       "      <td>BMW</td>\n",
       "      <td>Model B</td>\n",
       "      <td>2006</td>\n",
       "      <td>4.1</td>\n",
       "      <td>98385</td>\n",
       "      <td>Electric</td>\n",
       "      <td>Manual</td>\n",
       "      <td>25760.290347</td>\n",
       "    </tr>\n",
       "    <tr>\n",
       "      <th>3</th>\n",
       "      <td>Honda</td>\n",
       "      <td>Model B</td>\n",
       "      <td>2015</td>\n",
       "      <td>2.6</td>\n",
       "      <td>88919</td>\n",
       "      <td>Electric</td>\n",
       "      <td>Automatic</td>\n",
       "      <td>25638.003491</td>\n",
       "    </tr>\n",
       "    <tr>\n",
       "      <th>4</th>\n",
       "      <td>Honda</td>\n",
       "      <td>Model C</td>\n",
       "      <td>2004</td>\n",
       "      <td>3.4</td>\n",
       "      <td>138482</td>\n",
       "      <td>Petrol</td>\n",
       "      <td>Automatic</td>\n",
       "      <td>21021.386657</td>\n",
       "    </tr>\n",
       "  </tbody>\n",
       "</table>\n",
       "</div>"
      ],
      "text/plain": [
       "    Make    Model  Year  Engine Size  Mileage Fuel Type Transmission  \\\n",
       "0  Honda  Model B  2015          3.9    74176    Petrol       Manual   \n",
       "1   Ford  Model C  2014          1.7    94799  Electric    Automatic   \n",
       "2    BMW  Model B  2006          4.1    98385  Electric       Manual   \n",
       "3  Honda  Model B  2015          2.6    88919  Electric    Automatic   \n",
       "4  Honda  Model C  2004          3.4   138482    Petrol    Automatic   \n",
       "\n",
       "          Price  \n",
       "0  30246.207931  \n",
       "1  22785.747684  \n",
       "2  25760.290347  \n",
       "3  25638.003491  \n",
       "4  21021.386657  "
      ]
     },
     "execution_count": 9,
     "metadata": {},
     "output_type": "execute_result"
    }
   ],
   "source": [
    "# frist 5 rows\n",
    "car_dataset.head()"
   ]
  },
  {
   "cell_type": "code",
   "execution_count": 10,
   "id": "3e2be085",
   "metadata": {},
   "outputs": [
    {
     "data": {
      "text/plain": [
       "(1000, 8)"
      ]
     },
     "execution_count": 10,
     "metadata": {},
     "output_type": "execute_result"
    }
   ],
   "source": [
    "# checking the number of rows and columns\n",
    "car_dataset.shape"
   ]
  },
  {
   "cell_type": "code",
   "execution_count": 11,
   "id": "4039bec3",
   "metadata": {},
   "outputs": [
    {
     "name": "stdout",
     "output_type": "stream",
     "text": [
      "<class 'pandas.core.frame.DataFrame'>\n",
      "RangeIndex: 1000 entries, 0 to 999\n",
      "Data columns (total 8 columns):\n",
      " #   Column        Non-Null Count  Dtype  \n",
      "---  ------        --------------  -----  \n",
      " 0   Make          1000 non-null   object \n",
      " 1   Model         1000 non-null   object \n",
      " 2   Year          1000 non-null   int64  \n",
      " 3   Engine Size   1000 non-null   float64\n",
      " 4   Mileage       1000 non-null   int64  \n",
      " 5   Fuel Type     1000 non-null   object \n",
      " 6   Transmission  1000 non-null   object \n",
      " 7   Price         1000 non-null   float64\n",
      "dtypes: float64(2), int64(2), object(4)\n",
      "memory usage: 62.6+ KB\n"
     ]
    }
   ],
   "source": [
    "# get the information about the dataset\n",
    "car_dataset.info()"
   ]
  },
  {
   "cell_type": "code",
   "execution_count": 12,
   "id": "415e56b4",
   "metadata": {},
   "outputs": [
    {
     "data": {
      "text/plain": [
       "Make            0\n",
       "Model           0\n",
       "Year            0\n",
       "Engine Size     0\n",
       "Mileage         0\n",
       "Fuel Type       0\n",
       "Transmission    0\n",
       "Price           0\n",
       "dtype: int64"
      ]
     },
     "execution_count": 12,
     "metadata": {},
     "output_type": "execute_result"
    }
   ],
   "source": [
    "#checking the missing values\n",
    "car_dataset.isnull().sum()"
   ]
  },
  {
   "cell_type": "code",
   "execution_count": 13,
   "id": "4237c59b",
   "metadata": {},
   "outputs": [
    {
     "name": "stdout",
     "output_type": "stream",
     "text": [
      "Fuel Type\n",
      "Diesel      344\n",
      "Petrol      331\n",
      "Electric    325\n",
      "Name: count, dtype: int64\n",
      "Model\n",
      "Model B    212\n",
      "Model C    205\n",
      "Model A    202\n",
      "Model D    197\n",
      "Model E    184\n",
      "Name: count, dtype: int64\n",
      "Transmission\n",
      "Manual       511\n",
      "Automatic    489\n",
      "Name: count, dtype: int64\n",
      "Make\n",
      "Ford      225\n",
      "Audi      212\n",
      "Honda     198\n",
      "Toyota    187\n",
      "BMW       178\n",
      "Name: count, dtype: int64\n"
     ]
    }
   ],
   "source": [
    "# checking the distribution of categorical data\n",
    "print(car_dataset[\"Fuel Type\"].value_counts())\n",
    "print(car_dataset[\"Model\"].value_counts())\n",
    "print(car_dataset['Transmission'].value_counts())\n",
    "print(car_dataset['Make'].value_counts())\n",
    "\n"
   ]
  },
  {
   "cell_type": "code",
   "execution_count": 14,
   "id": "80896c7b",
   "metadata": {},
   "outputs": [],
   "source": [
    "# Encoding the 'Fuel Type' column\n",
    "car_dataset.replace({'Fuel Type': {'Petrol': 0, 'Diesel': 1, 'LPG': 2, 'Electric': 3}}, inplace=True)\n",
    "\n",
    "# Encoding the 'transmission' column\n",
    "car_dataset.replace({'Transmission': {'Manual': 0, 'Automatic': 1}}, inplace=True)\n",
    "\n",
    "# Encoding the 'Model' column\n",
    "car_dataset.replace({'Model': {'Model A': 0, 'Model B': 1, 'Model C': 2, 'Model D': 3, 'Model E': 4}}, inplace=True)\n",
    "\n",
    "# Encoding the 'Make' column\n",
    "car_dataset.replace({'Make': {'Ford': 0, 'Audi': 1, 'Honda': 2, 'Toyota': 3, 'BMW': 4}}, inplace=True)\n"
   ]
  },
  {
   "cell_type": "code",
   "execution_count": 15,
   "id": "7a85e0df",
   "metadata": {},
   "outputs": [
    {
     "data": {
      "text/html": [
       "<div>\n",
       "<style scoped>\n",
       "    .dataframe tbody tr th:only-of-type {\n",
       "        vertical-align: middle;\n",
       "    }\n",
       "\n",
       "    .dataframe tbody tr th {\n",
       "        vertical-align: top;\n",
       "    }\n",
       "\n",
       "    .dataframe thead th {\n",
       "        text-align: right;\n",
       "    }\n",
       "</style>\n",
       "<table border=\"1\" class=\"dataframe\">\n",
       "  <thead>\n",
       "    <tr style=\"text-align: right;\">\n",
       "      <th></th>\n",
       "      <th>Make</th>\n",
       "      <th>Model</th>\n",
       "      <th>Year</th>\n",
       "      <th>Engine Size</th>\n",
       "      <th>Mileage</th>\n",
       "      <th>Fuel Type</th>\n",
       "      <th>Transmission</th>\n",
       "      <th>Price</th>\n",
       "    </tr>\n",
       "  </thead>\n",
       "  <tbody>\n",
       "    <tr>\n",
       "      <th>0</th>\n",
       "      <td>2</td>\n",
       "      <td>1</td>\n",
       "      <td>2015</td>\n",
       "      <td>3.9</td>\n",
       "      <td>74176</td>\n",
       "      <td>0</td>\n",
       "      <td>0</td>\n",
       "      <td>30246.207931</td>\n",
       "    </tr>\n",
       "    <tr>\n",
       "      <th>1</th>\n",
       "      <td>0</td>\n",
       "      <td>2</td>\n",
       "      <td>2014</td>\n",
       "      <td>1.7</td>\n",
       "      <td>94799</td>\n",
       "      <td>3</td>\n",
       "      <td>1</td>\n",
       "      <td>22785.747684</td>\n",
       "    </tr>\n",
       "    <tr>\n",
       "      <th>2</th>\n",
       "      <td>4</td>\n",
       "      <td>1</td>\n",
       "      <td>2006</td>\n",
       "      <td>4.1</td>\n",
       "      <td>98385</td>\n",
       "      <td>3</td>\n",
       "      <td>0</td>\n",
       "      <td>25760.290347</td>\n",
       "    </tr>\n",
       "    <tr>\n",
       "      <th>3</th>\n",
       "      <td>2</td>\n",
       "      <td>1</td>\n",
       "      <td>2015</td>\n",
       "      <td>2.6</td>\n",
       "      <td>88919</td>\n",
       "      <td>3</td>\n",
       "      <td>1</td>\n",
       "      <td>25638.003491</td>\n",
       "    </tr>\n",
       "    <tr>\n",
       "      <th>4</th>\n",
       "      <td>2</td>\n",
       "      <td>2</td>\n",
       "      <td>2004</td>\n",
       "      <td>3.4</td>\n",
       "      <td>138482</td>\n",
       "      <td>0</td>\n",
       "      <td>1</td>\n",
       "      <td>21021.386657</td>\n",
       "    </tr>\n",
       "  </tbody>\n",
       "</table>\n",
       "</div>"
      ],
      "text/plain": [
       "   Make  Model  Year  Engine Size  Mileage  Fuel Type  Transmission  \\\n",
       "0     2      1  2015          3.9    74176          0             0   \n",
       "1     0      2  2014          1.7    94799          3             1   \n",
       "2     4      1  2006          4.1    98385          3             0   \n",
       "3     2      1  2015          2.6    88919          3             1   \n",
       "4     2      2  2004          3.4   138482          0             1   \n",
       "\n",
       "          Price  \n",
       "0  30246.207931  \n",
       "1  22785.747684  \n",
       "2  25760.290347  \n",
       "3  25638.003491  \n",
       "4  21021.386657  "
      ]
     },
     "execution_count": 15,
     "metadata": {},
     "output_type": "execute_result"
    }
   ],
   "source": [
    "car_dataset.head()"
   ]
  },
  {
   "cell_type": "markdown",
   "id": "55206eee",
   "metadata": {},
   "source": [
    "Spliting the data and traget"
   ]
  },
  {
   "cell_type": "code",
   "execution_count": 16,
   "id": "7957fb90",
   "metadata": {},
   "outputs": [],
   "source": [
    "X= car_dataset.drop(columns=[ 'Price'], axis=1)\n",
    "y= car_dataset['Price']"
   ]
  },
  {
   "cell_type": "code",
   "execution_count": 17,
   "id": "c151fcbf",
   "metadata": {},
   "outputs": [
    {
     "name": "stdout",
     "output_type": "stream",
     "text": [
      "     Make  Model  Year  Engine Size  Mileage  Fuel Type  Transmission\n",
      "0       2      1  2015          3.9    74176          0             0\n",
      "1       0      2  2014          1.7    94799          3             1\n",
      "2       4      1  2006          4.1    98385          3             0\n",
      "3       2      1  2015          2.6    88919          3             1\n",
      "4       2      2  2004          3.4   138482          0             1\n",
      "..    ...    ...   ...          ...      ...        ...           ...\n",
      "995     3      3  2002          1.9     5445          0             0\n",
      "996     2      1  2020          3.1   149112          1             0\n",
      "997     0      2  2008          1.9   195387          0             1\n",
      "998     3      0  2003          4.4      246          0             1\n",
      "999     1      2  2020          2.1    31153          1             1\n",
      "\n",
      "[1000 rows x 7 columns]\n"
     ]
    }
   ],
   "source": [
    "print(X)\n"
   ]
  },
  {
   "cell_type": "code",
   "execution_count": 18,
   "id": "9f4378e9",
   "metadata": {},
   "outputs": [
    {
     "name": "stdout",
     "output_type": "stream",
     "text": [
      "0      30246.207931\n",
      "1      22785.747684\n",
      "2      25760.290347\n",
      "3      25638.003491\n",
      "4      21021.386657\n",
      "           ...     \n",
      "995    22765.597091\n",
      "996    30392.575567\n",
      "997    16446.892292\n",
      "998    27396.156708\n",
      "999    31620.864907\n",
      "Name: Price, Length: 1000, dtype: float64\n"
     ]
    }
   ],
   "source": [
    "print(y)"
   ]
  },
  {
   "cell_type": "markdown",
   "id": "28cb4a82",
   "metadata": {},
   "source": [
    "Splitting Training and test data"
   ]
  },
  {
   "cell_type": "code",
   "execution_count": 19,
   "id": "b4d7ad74",
   "metadata": {},
   "outputs": [
    {
     "name": "stdout",
     "output_type": "stream",
     "text": [
      "(800, 7) (200, 7)\n",
      "(800,) (200,)\n"
     ]
    }
   ],
   "source": [
    "x_train, x_test, y_train, y_test = train_test_split(X, y, test_size=0.2, random_state=2)\n",
    "print(x_train.shape, x_test.shape)\n",
    "print(y_train.shape, y_test.shape)"
   ]
  },
  {
   "cell_type": "code",
   "execution_count": 20,
   "id": "ecea6d78",
   "metadata": {},
   "outputs": [
    {
     "data": {
      "text/html": [
       "<div>\n",
       "<style scoped>\n",
       "    .dataframe tbody tr th:only-of-type {\n",
       "        vertical-align: middle;\n",
       "    }\n",
       "\n",
       "    .dataframe tbody tr th {\n",
       "        vertical-align: top;\n",
       "    }\n",
       "\n",
       "    .dataframe thead th {\n",
       "        text-align: right;\n",
       "    }\n",
       "</style>\n",
       "<table border=\"1\" class=\"dataframe\">\n",
       "  <thead>\n",
       "    <tr style=\"text-align: right;\">\n",
       "      <th></th>\n",
       "      <th>Make</th>\n",
       "      <th>Model</th>\n",
       "      <th>Year</th>\n",
       "      <th>Engine Size</th>\n",
       "      <th>Mileage</th>\n",
       "      <th>Fuel Type</th>\n",
       "      <th>Transmission</th>\n",
       "    </tr>\n",
       "  </thead>\n",
       "  <tbody>\n",
       "    <tr>\n",
       "      <th>175</th>\n",
       "      <td>2</td>\n",
       "      <td>0</td>\n",
       "      <td>2010</td>\n",
       "      <td>2.2</td>\n",
       "      <td>30916</td>\n",
       "      <td>0</td>\n",
       "      <td>0</td>\n",
       "    </tr>\n",
       "    <tr>\n",
       "      <th>818</th>\n",
       "      <td>0</td>\n",
       "      <td>4</td>\n",
       "      <td>2005</td>\n",
       "      <td>3.1</td>\n",
       "      <td>23382</td>\n",
       "      <td>3</td>\n",
       "      <td>0</td>\n",
       "    </tr>\n",
       "    <tr>\n",
       "      <th>677</th>\n",
       "      <td>2</td>\n",
       "      <td>4</td>\n",
       "      <td>2019</td>\n",
       "      <td>1.4</td>\n",
       "      <td>163819</td>\n",
       "      <td>1</td>\n",
       "      <td>1</td>\n",
       "    </tr>\n",
       "    <tr>\n",
       "      <th>952</th>\n",
       "      <td>1</td>\n",
       "      <td>2</td>\n",
       "      <td>2019</td>\n",
       "      <td>2.1</td>\n",
       "      <td>70910</td>\n",
       "      <td>1</td>\n",
       "      <td>1</td>\n",
       "    </tr>\n",
       "    <tr>\n",
       "      <th>200</th>\n",
       "      <td>1</td>\n",
       "      <td>1</td>\n",
       "      <td>2005</td>\n",
       "      <td>3.4</td>\n",
       "      <td>84579</td>\n",
       "      <td>0</td>\n",
       "      <td>0</td>\n",
       "    </tr>\n",
       "  </tbody>\n",
       "</table>\n",
       "</div>"
      ],
      "text/plain": [
       "     Make  Model  Year  Engine Size  Mileage  Fuel Type  Transmission\n",
       "175     2      0  2010          2.2    30916          0             0\n",
       "818     0      4  2005          3.1    23382          3             0\n",
       "677     2      4  2019          1.4   163819          1             1\n",
       "952     1      2  2019          2.1    70910          1             1\n",
       "200     1      1  2005          3.4    84579          0             0"
      ]
     },
     "execution_count": 20,
     "metadata": {},
     "output_type": "execute_result"
    }
   ],
   "source": [
    "x_train.head()"
   ]
  },
  {
   "cell_type": "code",
   "execution_count": 21,
   "id": "d26b839d",
   "metadata": {},
   "outputs": [
    {
     "data": {
      "text/html": [
       "<div>\n",
       "<style scoped>\n",
       "    .dataframe tbody tr th:only-of-type {\n",
       "        vertical-align: middle;\n",
       "    }\n",
       "\n",
       "    .dataframe tbody tr th {\n",
       "        vertical-align: top;\n",
       "    }\n",
       "\n",
       "    .dataframe thead th {\n",
       "        text-align: right;\n",
       "    }\n",
       "</style>\n",
       "<table border=\"1\" class=\"dataframe\">\n",
       "  <thead>\n",
       "    <tr style=\"text-align: right;\">\n",
       "      <th></th>\n",
       "      <th>Make</th>\n",
       "      <th>Model</th>\n",
       "      <th>Year</th>\n",
       "      <th>Engine Size</th>\n",
       "      <th>Mileage</th>\n",
       "      <th>Fuel Type</th>\n",
       "      <th>Transmission</th>\n",
       "    </tr>\n",
       "  </thead>\n",
       "  <tbody>\n",
       "    <tr>\n",
       "      <th>37</th>\n",
       "      <td>1</td>\n",
       "      <td>2</td>\n",
       "      <td>2000</td>\n",
       "      <td>4.1</td>\n",
       "      <td>171711</td>\n",
       "      <td>1</td>\n",
       "      <td>1</td>\n",
       "    </tr>\n",
       "    <tr>\n",
       "      <th>726</th>\n",
       "      <td>0</td>\n",
       "      <td>3</td>\n",
       "      <td>2003</td>\n",
       "      <td>4.2</td>\n",
       "      <td>144013</td>\n",
       "      <td>3</td>\n",
       "      <td>1</td>\n",
       "    </tr>\n",
       "    <tr>\n",
       "      <th>846</th>\n",
       "      <td>2</td>\n",
       "      <td>4</td>\n",
       "      <td>2019</td>\n",
       "      <td>3.9</td>\n",
       "      <td>32470</td>\n",
       "      <td>3</td>\n",
       "      <td>0</td>\n",
       "    </tr>\n",
       "    <tr>\n",
       "      <th>295</th>\n",
       "      <td>0</td>\n",
       "      <td>2</td>\n",
       "      <td>2020</td>\n",
       "      <td>4.5</td>\n",
       "      <td>50886</td>\n",
       "      <td>0</td>\n",
       "      <td>0</td>\n",
       "    </tr>\n",
       "    <tr>\n",
       "      <th>924</th>\n",
       "      <td>3</td>\n",
       "      <td>2</td>\n",
       "      <td>2020</td>\n",
       "      <td>3.1</td>\n",
       "      <td>58150</td>\n",
       "      <td>1</td>\n",
       "      <td>1</td>\n",
       "    </tr>\n",
       "  </tbody>\n",
       "</table>\n",
       "</div>"
      ],
      "text/plain": [
       "     Make  Model  Year  Engine Size  Mileage  Fuel Type  Transmission\n",
       "37      1      2  2000          4.1   171711          1             1\n",
       "726     0      3  2003          4.2   144013          3             1\n",
       "846     2      4  2019          3.9    32470          3             0\n",
       "295     0      2  2020          4.5    50886          0             0\n",
       "924     3      2  2020          3.1    58150          1             1"
      ]
     },
     "execution_count": 21,
     "metadata": {},
     "output_type": "execute_result"
    }
   ],
   "source": [
    "x_test.head()"
   ]
  },
  {
   "cell_type": "code",
   "execution_count": 22,
   "id": "b74dd3dc",
   "metadata": {},
   "outputs": [
    {
     "data": {
      "text/plain": [
       "175    25288.685982\n",
       "818    25984.857565\n",
       "677    21059.150938\n",
       "952    28536.443448\n",
       "200    25173.403405\n",
       "Name: Price, dtype: float64"
      ]
     },
     "execution_count": 22,
     "metadata": {},
     "output_type": "execute_result"
    }
   ],
   "source": [
    "y_train.head()"
   ]
  },
  {
   "cell_type": "code",
   "execution_count": 23,
   "id": "1fe425ee",
   "metadata": {},
   "outputs": [
    {
     "data": {
      "text/plain": [
       "37     16604.498170\n",
       "726    24531.174724\n",
       "846    32431.531353\n",
       "295    40538.382064\n",
       "924    30434.529368\n",
       "Name: Price, dtype: float64"
      ]
     },
     "execution_count": 23,
     "metadata": {},
     "output_type": "execute_result"
    }
   ],
   "source": [
    "y_test.head()"
   ]
  },
  {
   "cell_type": "markdown",
   "id": "46c8b764",
   "metadata": {},
   "source": [
    "Model Training"
   ]
  },
  {
   "cell_type": "markdown",
   "id": "1a5918b8",
   "metadata": {},
   "source": [
    "1)Linear regression"
   ]
  },
  {
   "cell_type": "code",
   "execution_count": null,
   "id": "f4f688bd",
   "metadata": {},
   "outputs": [
    {
     "data": {
      "text/html": [
       "<style>#sk-container-id-1 {color: black;}#sk-container-id-1 pre{padding: 0;}#sk-container-id-1 div.sk-toggleable {background-color: white;}#sk-container-id-1 label.sk-toggleable__label {cursor: pointer;display: block;width: 100%;margin-bottom: 0;padding: 0.3em;box-sizing: border-box;text-align: center;}#sk-container-id-1 label.sk-toggleable__label-arrow:before {content: \"▸\";float: left;margin-right: 0.25em;color: #696969;}#sk-container-id-1 label.sk-toggleable__label-arrow:hover:before {color: black;}#sk-container-id-1 div.sk-estimator:hover label.sk-toggleable__label-arrow:before {color: black;}#sk-container-id-1 div.sk-toggleable__content {max-height: 0;max-width: 0;overflow: hidden;text-align: left;background-color: #f0f8ff;}#sk-container-id-1 div.sk-toggleable__content pre {margin: 0.2em;color: black;border-radius: 0.25em;background-color: #f0f8ff;}#sk-container-id-1 input.sk-toggleable__control:checked~div.sk-toggleable__content {max-height: 200px;max-width: 100%;overflow: auto;}#sk-container-id-1 input.sk-toggleable__control:checked~label.sk-toggleable__label-arrow:before {content: \"▾\";}#sk-container-id-1 div.sk-estimator input.sk-toggleable__control:checked~label.sk-toggleable__label {background-color: #d4ebff;}#sk-container-id-1 div.sk-label input.sk-toggleable__control:checked~label.sk-toggleable__label {background-color: #d4ebff;}#sk-container-id-1 input.sk-hidden--visually {border: 0;clip: rect(1px 1px 1px 1px);clip: rect(1px, 1px, 1px, 1px);height: 1px;margin: -1px;overflow: hidden;padding: 0;position: absolute;width: 1px;}#sk-container-id-1 div.sk-estimator {font-family: monospace;background-color: #f0f8ff;border: 1px dotted black;border-radius: 0.25em;box-sizing: border-box;margin-bottom: 0.5em;}#sk-container-id-1 div.sk-estimator:hover {background-color: #d4ebff;}#sk-container-id-1 div.sk-parallel-item::after {content: \"\";width: 100%;border-bottom: 1px solid gray;flex-grow: 1;}#sk-container-id-1 div.sk-label:hover label.sk-toggleable__label {background-color: #d4ebff;}#sk-container-id-1 div.sk-serial::before {content: \"\";position: absolute;border-left: 1px solid gray;box-sizing: border-box;top: 0;bottom: 0;left: 50%;z-index: 0;}#sk-container-id-1 div.sk-serial {display: flex;flex-direction: column;align-items: center;background-color: white;padding-right: 0.2em;padding-left: 0.2em;position: relative;}#sk-container-id-1 div.sk-item {position: relative;z-index: 1;}#sk-container-id-1 div.sk-parallel {display: flex;align-items: stretch;justify-content: center;background-color: white;position: relative;}#sk-container-id-1 div.sk-item::before, #sk-container-id-1 div.sk-parallel-item::before {content: \"\";position: absolute;border-left: 1px solid gray;box-sizing: border-box;top: 0;bottom: 0;left: 50%;z-index: -1;}#sk-container-id-1 div.sk-parallel-item {display: flex;flex-direction: column;z-index: 1;position: relative;background-color: white;}#sk-container-id-1 div.sk-parallel-item:first-child::after {align-self: flex-end;width: 50%;}#sk-container-id-1 div.sk-parallel-item:last-child::after {align-self: flex-start;width: 50%;}#sk-container-id-1 div.sk-parallel-item:only-child::after {width: 0;}#sk-container-id-1 div.sk-dashed-wrapped {border: 1px dashed gray;margin: 0 0.4em 0.5em 0.4em;box-sizing: border-box;padding-bottom: 0.4em;background-color: white;}#sk-container-id-1 div.sk-label label {font-family: monospace;font-weight: bold;display: inline-block;line-height: 1.2em;}#sk-container-id-1 div.sk-label-container {text-align: center;}#sk-container-id-1 div.sk-container {/* jupyter's `normalize.less` sets `[hidden] { display: none; }` but bootstrap.min.css set `[hidden] { display: none !important; }` so we also need the `!important` here to be able to override the default hidden behavior on the sphinx rendered scikit-learn.org. See: https://github.com/scikit-learn/scikit-learn/issues/21755 */display: inline-block !important;position: relative;}#sk-container-id-1 div.sk-text-repr-fallback {display: none;}</style><div id=\"sk-container-id-1\" class=\"sk-top-container\"><div class=\"sk-text-repr-fallback\"><pre>LinearRegression()</pre><b>In a Jupyter environment, please rerun this cell to show the HTML representation or trust the notebook. <br />On GitHub, the HTML representation is unable to render, please try loading this page with nbviewer.org.</b></div><div class=\"sk-container\" hidden><div class=\"sk-item\"><div class=\"sk-estimator sk-toggleable\"><input class=\"sk-toggleable__control sk-hidden--visually\" id=\"sk-estimator-id-1\" type=\"checkbox\" checked><label for=\"sk-estimator-id-1\" class=\"sk-toggleable__label sk-toggleable__label-arrow\">LinearRegression</label><div class=\"sk-toggleable__content\"><pre>LinearRegression()</pre></div></div></div></div></div>"
      ],
      "text/plain": [
       "LinearRegression()"
      ]
     },
     "execution_count": 24,
     "metadata": {},
     "output_type": "execute_result"
    }
   ],
   "source": [
    "# loadind the linear regression model\n",
    "lin_reg_model = LinearRegression()\n",
    "# training the linear regression model\n",
    "lin_reg_model.fit(x_train, y_train)"
   ]
  },
  {
   "cell_type": "markdown",
   "id": "562cc332",
   "metadata": {},
   "source": [
    "Model EvalUation"
   ]
  },
  {
   "cell_type": "code",
   "execution_count": 25,
   "id": "780783da",
   "metadata": {},
   "outputs": [],
   "source": [
    "1 # prediction on training data\n",
    "training_data_prediction = lin_reg_model.predict(x_train)\n"
   ]
  },
  {
   "cell_type": "code",
   "execution_count": 26,
   "id": "d7fa79cd",
   "metadata": {},
   "outputs": [
    {
     "name": "stdout",
     "output_type": "stream",
     "text": [
      "R squared error:  0.8405818531335401\n"
     ]
    }
   ],
   "source": [
    "# r squared error\n",
    "error_score= metrics.r2_score(y_train, training_data_prediction)\n",
    "print(\"R squared error: \", error_score)"
   ]
  },
  {
   "cell_type": "markdown",
   "id": "4a1bce8f",
   "metadata": {},
   "source": [
    "Visualiza thee actual prices and predicted Prices"
   ]
  },
  {
   "cell_type": "code",
   "execution_count": 33,
   "id": "6686a703",
   "metadata": {},
   "outputs": [
    {
     "data": {
      "image/png": "[encoded data removed]",
      "text/plain": [
       "<Figure size 640x480 with 1 Axes>"
      ]
     },
     "metadata": {},
     "output_type": "display_data"
    }
   ],
   "source": [
    "plt.scatter(y_train, training_data_prediction, color=\"blue\", label=\"Training data\")\n",
    "plt.xlabel(\"Actual price\", fontsize=18,color=\"blue\")\n",
    "plt.ylabel(\"Predicted price\", fontsize=18,color=\"red\")\n",
    "plt.title(\"Actual price vs Predicted price\")\n",
    "plt.show()"
   ]
  },
  {
   "cell_type": "code",
   "execution_count": 43,
   "id": "9b8afff2",
   "metadata": {},
   "outputs": [],
   "source": [
    "# prediction on test data\n",
    "test_data_prediction = lin_reg_model.predict(x_test)\n"
   ]
  },
  {
   "cell_type": "code",
   "execution_count": 44,
   "id": "9008d680",
   "metadata": {},
   "outputs": [
    {
     "name": "stdout",
     "output_type": "stream",
     "text": [
      "R squared error:  0.8405818531335401\n",
      "R squared error:  0.8343849568053808\n"
     ]
    }
   ],
   "source": [
    "# r squared error\n",
    "training_data_r2_score = metrics.r2_score(y_train, training_data_prediction)\n",
    "test_data_r2_score = metrics.r2_score(y_test, test_data_prediction)\n",
    "print(\"R squared error: \", training_data_r2_score)\n",
    "print(\"R squared error: \", test_data_r2_score)\n"
   ]
  },
  {
   "cell_type": "code",
   "execution_count": 45,
   "id": "0fff8e1e",
   "metadata": {},
   "outputs": [
    {
     "data": {
      "image/png": "[encoded data removed]",
      "text/plain": [
       "<Figure size 640x480 with 1 Axes>"
      ]
     },
     "metadata": {},
     "output_type": "display_data"
    }
   ],
   "source": [
    "plt.scatter(y_test, test_data_prediction)\n",
    "plt.xlabel(\"Actual price\")\n",
    "plt.ylabel(\"Predicted price\")\n",
    "plt.title(\"Actual price vs Predicted price\")\n",
    "plt.show()"
   ]
  }
 ],
 "metadata": {
  "kernelspec": {
   "display_name": "base",
   "language": "python",
   "name": "python3"
  },
  "language_info": {
   "codemirror_mode": {
    "name": "ipython",
    "version": 3
   },
   "file_extension": ".py",
   "mimetype": "text/x-python",
   "name": "python",
   "nbconvert_exporter": "python",
   "pygments_lexer": "ipython3",
   "version": "3.11.5"
  }
 },
 "nbformat": 4,
 "nbformat_minor": 5
}
